{
 "cells": [
  {
   "cell_type": "code",
   "execution_count": 2,
   "metadata": {},
   "outputs": [
    {
     "name": "stdout",
     "output_type": "stream",
     "text": [
      "Hello world!\n"
     ]
    }
   ],
   "source": [
    "print(\"Hello world!\")"
   ]
  },
  {
   "cell_type": "code",
   "execution_count": 18,
   "metadata": {},
   "outputs": [
    {
     "name": "stdout",
     "output_type": "stream",
     "text": [
      "Requirement already satisfied: pandas in c:\\users\\email\\onedrive - burgundy school of business\\documents\\github\\intro_cloud_repository\\.venv\\lib\\site-packages (2.1.1)\n",
      "Requirement already satisfied: numpy>=1.23.2 in c:\\users\\email\\onedrive - burgundy school of business\\documents\\github\\intro_cloud_repository\\.venv\\lib\\site-packages (from pandas) (1.26.0)\n",
      "Requirement already satisfied: python-dateutil>=2.8.2 in c:\\users\\email\\onedrive - burgundy school of business\\documents\\github\\intro_cloud_repository\\.venv\\lib\\site-packages (from pandas) (2.8.2)\n",
      "Requirement already satisfied: pytz>=2020.1 in c:\\users\\email\\onedrive - burgundy school of business\\documents\\github\\intro_cloud_repository\\.venv\\lib\\site-packages (from pandas) (2023.3.post1)\n",
      "Requirement already satisfied: tzdata>=2022.1 in c:\\users\\email\\onedrive - burgundy school of business\\documents\\github\\intro_cloud_repository\\.venv\\lib\\site-packages (from pandas) (2023.3)\n",
      "Requirement already satisfied: six>=1.5 in c:\\users\\email\\onedrive - burgundy school of business\\documents\\github\\intro_cloud_repository\\.venv\\lib\\site-packages (from python-dateutil>=2.8.2->pandas) (1.16.0)\n"
     ]
    }
   ],
   "source": [
    "!pip install pandas"
   ]
  },
  {
   "cell_type": "code",
   "execution_count": 19,
   "metadata": {},
   "outputs": [],
   "source": [
    "import pandas as pd"
   ]
  },
  {
   "cell_type": "code",
   "execution_count": 4,
   "metadata": {},
   "outputs": [
    {
     "name": "stdout",
     "output_type": "stream",
     "text": [
      "The variable has the value: hello world\n"
     ]
    }
   ],
   "source": [
    "x='hello world'\n",
    "print(\"The variable has the value:\", x)"
   ]
  },
  {
   "cell_type": "code",
   "execution_count": 5,
   "metadata": {},
   "outputs": [
    {
     "name": "stdout",
     "output_type": "stream",
     "text": [
      "<class 'bool'>\n",
      "False\n"
     ]
    }
   ],
   "source": [
    "t_boolean = True\n",
    "print(type(t_boolean))\n",
    "compute_boolean = 1 + 1 == 1\n",
    "print(compute_boolean)\n"
   ]
  },
  {
   "cell_type": "code",
   "execution_count": 6,
   "metadata": {},
   "outputs": [
    {
     "name": "stdout",
     "output_type": "stream",
     "text": [
      "<class 'str'>\n",
      "4004 Error\n"
     ]
    }
   ],
   "source": [
    "t_string = 'Hello'\n",
    "print(type(t_string))\n",
    "compute_string= '400' + '4' + ' Error'\n",
    "print(compute_string)\n"
   ]
  },
  {
   "cell_type": "code",
   "execution_count": 15,
   "metadata": {},
   "outputs": [
    {
     "name": "stdout",
     "output_type": "stream",
     "text": [
      "{1, 'list', 'strings', '.', 'This\", \"Is, a', 'Chapter', 'of'}\n"
     ]
    }
   ],
   "source": [
    "t_list = {'Chapter', 1, 'This\", \"Is, a', 'list', 'of', 'strings', '.'}\n",
    "print(t_list)\n"
   ]
  },
  {
   "cell_type": "code",
   "execution_count": 8,
   "metadata": {},
   "outputs": [
    {
     "ename": "NameError",
     "evalue": "name 't_list' is not defined",
     "output_type": "error",
     "traceback": [
      "\u001b[1;31m---------------------------------------------------------------------------\u001b[0m",
      "\u001b[1;31mNameError\u001b[0m                                 Traceback (most recent call last)",
      "\u001b[1;32mUntitled-1.ipynb Cell 8\u001b[0m line \u001b[0;36m1\n\u001b[1;32m----> <a href='vscode-notebook-cell:Untitled-1.ipynb?jupyter-notebook#X10sdW50aXRsZWQ%3D?line=0'>1</a>\u001b[0m t_list[\u001b[39m1\u001b[39m]\n",
      "\u001b[1;31mNameError\u001b[0m: name 't_list' is not defined"
     ]
    }
   ],
   "source": [
    "t_list[1]"
   ]
  },
  {
   "cell_type": "code",
   "execution_count": 12,
   "metadata": {},
   "outputs": [
    {
     "name": "stdout",
     "output_type": "stream",
     "text": [
      "{'Peugeot': 306, 'Mercedes-Benz': 'C220', 'Audi': 'A4'}\n"
     ]
    }
   ],
   "source": [
    "t_dictionary = {'Peugeot': 306, \"Mercedes-Benz\": \"C220\", \"Audi\": \"A4\"}\n",
    "print(t_dictionary)\n"
   ]
  },
  {
   "cell_type": "code",
   "execution_count": 23,
   "metadata": {},
   "outputs": [
    {
     "name": "stdout",
     "output_type": "stream",
     "text": [
      "       City  Population\n",
      "0     Paris     2161000\n",
      "1      Lyon      513275\n",
      "2  Bordeaux      249712\n"
     ]
    }
   ],
   "source": [
    "data = {\n",
    "    \"City\": ['Paris', 'Lyon', 'Bordeaux'],\n",
    "    \"Population\": [2161000, 513275, 249712]\n",
    "}\n",
    "t_dataframe = pd.DataFrame(data) \n",
    "print(t_dataframe)\n"
   ]
  },
  {
   "cell_type": "code",
   "execution_count": 30,
   "metadata": {},
   "outputs": [
    {
     "data": {
      "text/plain": [
       "'Compte créditeur'"
      ]
     },
     "execution_count": 30,
     "metadata": {},
     "output_type": "execute_result"
    }
   ],
   "source": [
    "montant_compte = 20\n",
    "def check_account_statut (montant_compte):\n",
    "    if montant_compte < -500: \n",
    "        statut='Compte en contentieux'\n",
    "    elif montant_compte < 0:\n",
    "        statut=\"Compte débiteur\"\n",
    "    else:\n",
    "        statut='Compte créditeur'\n",
    "    return statut\n",
    "\n",
    "check_account_statut(montant_compte)"
   ]
  },
  {
   "cell_type": "code",
   "execution_count": 31,
   "metadata": {},
   "outputs": [
    {
     "data": {
      "text/plain": [
       "'Compte créditeur'"
      ]
     },
     "execution_count": 31,
     "metadata": {},
     "output_type": "execute_result"
    }
   ],
   "source": [
    "check_account_statut(montant_compte)"
   ]
  },
  {
   "cell_type": "code",
   "execution_count": 32,
   "metadata": {},
   "outputs": [],
   "source": [
    "import pandas as pd\n",
    "import os\n",
    "import glob\n"
   ]
  },
  {
   "cell_type": "code",
   "execution_count": 34,
   "metadata": {},
   "outputs": [],
   "source": [
    "nasdaq_top_companies = [\n",
    "    {\n",
    "        \"Ticker\": \"AAPL\",\n",
    "        \"Company\": \"Apple Inc.\",\n",
    "        \"Industry\": \"Technology\",\n",
    "        \"Market Cap\": \"Trillion Dollars\",\n",
    "        \"Share_Price\": 150.00,\n",
    "        \"Description\": \"Share price for Apple Inc. in September 2021\"\n",
    "    },\n",
    "    {\n",
    "        \"Ticker\": \"MSFT\",\n",
    "        \"Company\": \"Microsoft Corporation\",\n",
    "        \"Industry\": \"Technology\",\n",
    "        \"Market Cap\": \"Trillion Dollars\",\n",
    "        \"Share_Price\": 300.00,\n",
    "        \"Description\": \"Share price for Microsoft Corporation in September 2021\"\n",
    "    },\n",
    "    {\n",
    "        \"Ticker\": \"AMZN\",\n",
    "        \"Company\": \"Amazon.com Inc.\",\n",
    "        \"Industry\": \"E-commerce\",\n",
    "        \"Market Cap\": \"Trillion Dollars\",\n",
    "        \"Share_Price\": 3400.00,\n",
    "        \"Description\": \"Share price for Amazon.com Inc. in September 2021\"\n",
    "    },\n",
    "    {\n",
    "        \"Ticker\": \"GOOGL\",\n",
    "        \"Company\": \"Alphabet Inc. (Google)\",\n",
    "        \"Industry\": \"Technology\",\n",
    "        \"Market Cap\": \"Trillion Dollars\",\n",
    "        \"Share_Price\": 2700.00,\n",
    "        \"Description\": \"Share price for Alphabet Inc. in September 2021\"\n",
    "    },\n",
    "    {\n",
    "        \"Ticker\": \"FB\",\n",
    "        \"Company\": \"Meta Platforms, Inc. (Facebook)\",\n",
    "        \"Industry\": \"Social Media\",\n",
    "        \"Market Cap\": \"Trillion Dollars\",\n",
    "        \"Share_Price\": 330.00,\n",
    "        \"Description\": \"Share price for Meta Platforms, Inc. in September 2021\"\n",
    "    }\n",
    "]\n",
    "# Load dict to DataFrame\n",
    "df_nasdaq=pd.DataFrame(nasdaq_top_companies)\n"
   ]
  },
  {
   "cell_type": "code",
   "execution_count": 2,
   "metadata": {},
   "outputs": [
    {
     "ename": "NameError",
     "evalue": "name 'pd' is not defined",
     "output_type": "error",
     "traceback": [
      "\u001b[1;31m---------------------------------------------------------------------------\u001b[0m",
      "\u001b[1;31mNameError\u001b[0m                                 Traceback (most recent call last)",
      "\u001b[1;32mUntitled-1.ipynb Cell 15\u001b[0m line \u001b[0;36m2\n\u001b[0;32m      <a href='vscode-notebook-cell:Untitled-1.ipynb?jupyter-notebook#X20sdW50aXRsZWQ%3D?line=0'>1</a>\u001b[0m cac40_data \u001b[39m=\u001b[39m [\n\u001b[0;32m      <a href='vscode-notebook-cell:Untitled-1.ipynb?jupyter-notebook#X20sdW50aXRsZWQ%3D?line=1'>2</a>\u001b[0m     {\n\u001b[0;32m      <a href='vscode-notebook-cell:Untitled-1.ipynb?jupyter-notebook#X20sdW50aXRsZWQ%3D?line=2'>3</a>\u001b[0m         \u001b[39m\"\u001b[39m\u001b[39mTicker\u001b[39m\u001b[39m\"\u001b[39m: \u001b[39m\"\u001b[39m\u001b[39mAC\u001b[39m\u001b[39m\"\u001b[39m,\n\u001b[1;32m   (...)\u001b[0m\n\u001b[0;32m     <a href='vscode-notebook-cell:Untitled-1.ipynb?jupyter-notebook#X20sdW50aXRsZWQ%3D?line=25'>26</a>\u001b[0m     },\n\u001b[0;32m     <a href='vscode-notebook-cell:Untitled-1.ipynb?jupyter-notebook#X20sdW50aXRsZWQ%3D?line=26'>27</a>\u001b[0m ]\n\u001b[0;32m     <a href='vscode-notebook-cell:Untitled-1.ipynb?jupyter-notebook#X20sdW50aXRsZWQ%3D?line=27'>28</a>\u001b[0m \u001b[39m# Load dict to DataFrame\u001b[39;00m\n\u001b[1;32m---> <a href='vscode-notebook-cell:Untitled-1.ipynb?jupyter-notebook#X20sdW50aXRsZWQ%3D?line=28'>29</a>\u001b[0m cac40_data\u001b[39m=\u001b[39mpd\u001b[39m.\u001b[39mDataFrame(cac40_data)\n",
      "\u001b[1;31mNameError\u001b[0m: name 'pd' is not defined"
     ]
    }
   ],
   "source": [
    "cac40_data = [\n",
    "    {\n",
    "        \"Ticker\": \"AC\",\n",
    "        \"Company\": \"Accor\",\n",
    "        \"Share_Price\": 35.60\n",
    "    },\n",
    "    {\n",
    "        \"Ticker\": \"AI\",\n",
    "        \"Company\": \"Air Liquide\",\n",
    "        \"Share_Price\": 147.80\n",
    "    },\n",
    "    {\n",
    "        \"Ticker\": \"MT\",\n",
    "        \"Company\": \"ArcelorMittal\",\n",
    "        \"Share_Price\": 28.90\n",
    "    },\n",
    "    {\n",
    "        \"Ticker\": \"BNP\",\n",
    "        \"Company\": \"BNP Paribas\",\n",
    "        \"Share_Price\": 53.20\n",
    "    },\n",
    "    {\n",
    "        \"Ticker\": \"CAP\",\n",
    "        \"Company\": \"Capgemini\",\n",
    "        \"Share_Price\": 140.45\n",
    "    },\n",
    "]\n",
    "# Load dict to DataFrame\n",
    "cac40_data=pd.DataFrame(cac40_data)\n"
   ]
  },
  {
   "cell_type": "code",
   "execution_count": 36,
   "metadata": {},
   "outputs": [
    {
     "data": {
      "text/plain": [
       "[{'Ticker': 'AAPL',\n",
       "  'Company': 'Apple Inc.',\n",
       "  'Industry': 'Technology',\n",
       "  'Market Cap': 'Trillion Dollars',\n",
       "  'Share_Price': 150.0,\n",
       "  'Description': 'Share price for Apple Inc. in September 2021'},\n",
       " {'Ticker': 'MSFT',\n",
       "  'Company': 'Microsoft Corporation',\n",
       "  'Industry': 'Technology',\n",
       "  'Market Cap': 'Trillion Dollars',\n",
       "  'Share_Price': 300.0,\n",
       "  'Description': 'Share price for Microsoft Corporation in September 2021'},\n",
       " {'Ticker': 'AMZN',\n",
       "  'Company': 'Amazon.com Inc.',\n",
       "  'Industry': 'E-commerce',\n",
       "  'Market Cap': 'Trillion Dollars',\n",
       "  'Share_Price': 3400.0,\n",
       "  'Description': 'Share price for Amazon.com Inc. in September 2021'},\n",
       " {'Ticker': 'GOOGL',\n",
       "  'Company': 'Alphabet Inc. (Google)',\n",
       "  'Industry': 'Technology',\n",
       "  'Market Cap': 'Trillion Dollars',\n",
       "  'Share_Price': 2700.0,\n",
       "  'Description': 'Share price for Alphabet Inc. in September 2021'},\n",
       " {'Ticker': 'FB',\n",
       "  'Company': 'Meta Platforms, Inc. (Facebook)',\n",
       "  'Industry': 'Social Media',\n",
       "  'Market Cap': 'Trillion Dollars',\n",
       "  'Share_Price': 330.0,\n",
       "  'Description': 'Share price for Meta Platforms, Inc. in September 2021'}]"
      ]
     },
     "execution_count": 36,
     "metadata": {},
     "output_type": "execute_result"
    }
   ],
   "source": [
    "cac40_data\n",
    "nasdaq_top_companies"
   ]
  },
  {
   "cell_type": "code",
   "execution_count": 37,
   "metadata": {},
   "outputs": [],
   "source": [
    "os.mkdir(r'./MARKET_DATA/')\n"
   ]
  },
  {
   "cell_type": "code",
   "execution_count": 1,
   "metadata": {},
   "outputs": [],
   "source": [
    "def CreateCsvFile(df, PrefixName: str):\n",
    "    '''\n",
    "    The function CreateCsvFile enables to create multiple csv files by tickers \n",
    "    from a dataframe and a prefix as the filename.\n",
    "    '''\n",
    "    for line, ticker in zip(df['Ticker'], df['Ticker']):\n",
    "        pathName = r'./MARKET_DATA/'+ str(PrefixName) +str(ticker)+'.csv'\n",
    "        df[df['Ticker']==line].to_csv(pathName, index=False)\n",
    "    return None\n"
   ]
  },
  {
   "cell_type": "code",
   "execution_count": 39,
   "metadata": {},
   "outputs": [],
   "source": [
    "CreateCsvFile(df_nasdaq, 'NASDAQ_')\n",
    "CreateCsvFile(cac40_data, 'CAC40_')\n"
   ]
  },
  {
   "cell_type": "code",
   "execution_count": 40,
   "metadata": {},
   "outputs": [],
   "source": [
    "# Assign the folder to parse\n",
    "pathFolder = r'.\\MARKET_DATA'\n",
    "# Parse the folder\n",
    "walkFolder = [path[0] for path in os.walk (pathFolder)]\n",
    "# Initialize list\n",
    "listOfFile = []\n",
    "# Loop on the folder\n",
    "for folder in walkFolder:\n",
    "    # Assign folder path\n",
    "    folderName = os.path.basename(folder)\n",
    "    # Assign folder path joined to a file type searched\n",
    "    files = os.path.join(folder, 'NASDAQ_*.csv')\n",
    "    # Store the file path matching the file type searched\n",
    "    listOfFile = glob.glob(files)\n"
   ]
  },
  {
   "cell_type": "code",
   "execution_count": 41,
   "metadata": {},
   "outputs": [
    {
     "data": {
      "text/plain": [
       "['.\\\\MARKET_DATA\\\\NASDAQ_AAPL.csv',\n",
       " '.\\\\MARKET_DATA\\\\NASDAQ_AMZN.csv',\n",
       " '.\\\\MARKET_DATA\\\\NASDAQ_FB.csv',\n",
       " '.\\\\MARKET_DATA\\\\NASDAQ_GOOGL.csv',\n",
       " '.\\\\MARKET_DATA\\\\NASDAQ_MSFT.csv']"
      ]
     },
     "execution_count": 41,
     "metadata": {},
     "output_type": "execute_result"
    }
   ],
   "source": [
    "listOfFile"
   ]
  }
 ],
 "metadata": {
  "kernelspec": {
   "display_name": "Python 3",
   "language": "python",
   "name": "python3"
  },
  "language_info": {
   "codemirror_mode": {
    "name": "ipython",
    "version": 3
   },
   "file_extension": ".py",
   "mimetype": "text/x-python",
   "name": "python",
   "nbconvert_exporter": "python",
   "pygments_lexer": "ipython3",
   "version": "3.11.5"
  }
 },
 "nbformat": 4,
 "nbformat_minor": 2
}
